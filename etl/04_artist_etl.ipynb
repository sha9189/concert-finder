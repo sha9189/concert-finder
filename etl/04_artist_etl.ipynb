{
 "cells": [
  {
   "cell_type": "markdown",
   "metadata": {},
   "source": [
    "# Artist and Artist Bridge table pipeline"
   ]
  },
  {
   "cell_type": "markdown",
   "metadata": {},
   "source": [
    "Steps:\n",
    "1. Load data from data folder\n",
    "2. Extract table specific information into a pandas dataframe\n",
    "3. Create table in SQL\n",
    "4. Load data in SQL table"
   ]
  },
  {
   "cell_type": "code",
   "execution_count": 1,
   "metadata": {},
   "outputs": [],
   "source": [
    "import os\n",
    "os.chdir(\"../\")\n",
    "\n",
    "import warnings\n",
    "warnings.filterwarnings(\"ignore\")"
   ]
  },
  {
   "cell_type": "code",
   "execution_count": 2,
   "metadata": {},
   "outputs": [],
   "source": [
    "import pandas as pd\n",
    "from api.api_connect import fetch_api_data\n",
    "import psycopg2 \n",
    "from helpers import load_config, generate_insert_statements, write_insert_statements_to_file, run_script_file, load_data_file\n",
    "\n",
    "config = load_config()"
   ]
  },
  {
   "cell_type": "code",
   "execution_count": 3,
   "metadata": {},
   "outputs": [],
   "source": [
    "events = load_data_file(\"event_small\")"
   ]
  },
  {
   "cell_type": "code",
   "execution_count": 5,
   "metadata": {},
   "outputs": [
    {
     "data": {
      "text/html": [
       "<div>\n",
       "<style scoped>\n",
       "    .dataframe tbody tr th:only-of-type {\n",
       "        vertical-align: middle;\n",
       "    }\n",
       "\n",
       "    .dataframe tbody tr th {\n",
       "        vertical-align: top;\n",
       "    }\n",
       "\n",
       "    .dataframe thead th {\n",
       "        text-align: right;\n",
       "    }\n",
       "</style>\n",
       "<table border=\"1\" class=\"dataframe\">\n",
       "  <thead>\n",
       "    <tr style=\"text-align: right;\">\n",
       "      <th></th>\n",
       "      <th>artist_id</th>\n",
       "      <th>artist_name</th>\n",
       "    </tr>\n",
       "  </thead>\n",
       "  <tbody>\n",
       "    <tr>\n",
       "      <th>0</th>\n",
       "      <td>K8vZ9171o-f</td>\n",
       "      <td>Green Day</td>\n",
       "    </tr>\n",
       "    <tr>\n",
       "      <th>1</th>\n",
       "      <td>K8vZ9171FDV</td>\n",
       "      <td>The Smashing Pumpkins</td>\n",
       "    </tr>\n",
       "    <tr>\n",
       "      <th>2</th>\n",
       "      <td>K8vZ9171fW0</td>\n",
       "      <td>Rancid</td>\n",
       "    </tr>\n",
       "    <tr>\n",
       "      <th>3</th>\n",
       "      <td>K8vZ917beWV</td>\n",
       "      <td>The Linda Lindas</td>\n",
       "    </tr>\n",
       "    <tr>\n",
       "      <th>4</th>\n",
       "      <td>K8vZ9171G9V</td>\n",
       "      <td>Metallica</td>\n",
       "    </tr>\n",
       "  </tbody>\n",
       "</table>\n",
       "</div>"
      ],
      "text/plain": [
       "     artist_id            artist_name\n",
       "0  K8vZ9171o-f              Green Day\n",
       "1  K8vZ9171FDV  The Smashing Pumpkins\n",
       "2  K8vZ9171fW0                 Rancid\n",
       "3  K8vZ917beWV       The Linda Lindas\n",
       "4  K8vZ9171G9V              Metallica"
      ]
     },
     "execution_count": 5,
     "metadata": {},
     "output_type": "execute_result"
    }
   ],
   "source": [
    "# extract artists data\n",
    "artist_dict = {\n",
    "    \"artist_id\": [],\n",
    "    \"artist_name\": []\n",
    "    }\n",
    "for event in events:\n",
    "    artists = event[\"_embedded\"][\"attractions\"]\n",
    "    for artist in artists:\n",
    "        artist_id = artist[\"id\"]\n",
    "        artist_name = artist[\"name\"]\n",
    "        if artist_id not in artist_dict[\"artist_id\"]:\n",
    "            artist_dict[\"artist_id\"].append(artist_id)\n",
    "            artist_dict[\"artist_name\"].append(artist_name)\n",
    "\n",
    "artist_df = pd.DataFrame(artist_dict)\n",
    "artist_df.head()"
   ]
  },
  {
   "cell_type": "code",
   "execution_count": 6,
   "metadata": {},
   "outputs": [
    {
     "name": "stdout",
     "output_type": "stream",
     "text": [
      "Sanity check for Artist-Event bridge table successful\n"
     ]
    },
    {
     "data": {
      "text/html": [
       "<div>\n",
       "<style scoped>\n",
       "    .dataframe tbody tr th:only-of-type {\n",
       "        vertical-align: middle;\n",
       "    }\n",
       "\n",
       "    .dataframe tbody tr th {\n",
       "        vertical-align: top;\n",
       "    }\n",
       "\n",
       "    .dataframe thead th {\n",
       "        text-align: right;\n",
       "    }\n",
       "</style>\n",
       "<table border=\"1\" class=\"dataframe\">\n",
       "  <thead>\n",
       "    <tr style=\"text-align: right;\">\n",
       "      <th></th>\n",
       "      <th>event_id</th>\n",
       "      <th>artist_id</th>\n",
       "    </tr>\n",
       "  </thead>\n",
       "  <tbody>\n",
       "    <tr>\n",
       "      <th>0</th>\n",
       "      <td>G5vVZ9U6NySUy</td>\n",
       "      <td>K8vZ9171o-f</td>\n",
       "    </tr>\n",
       "    <tr>\n",
       "      <th>1</th>\n",
       "      <td>G5vVZ9U6NySUy</td>\n",
       "      <td>K8vZ9171FDV</td>\n",
       "    </tr>\n",
       "    <tr>\n",
       "      <th>2</th>\n",
       "      <td>G5vVZ9U6NySUy</td>\n",
       "      <td>K8vZ9171fW0</td>\n",
       "    </tr>\n",
       "    <tr>\n",
       "      <th>3</th>\n",
       "      <td>G5vVZ9U6NySUy</td>\n",
       "      <td>K8vZ917beWV</td>\n",
       "    </tr>\n",
       "    <tr>\n",
       "      <th>4</th>\n",
       "      <td>vvG1bZ99JSxSRh</td>\n",
       "      <td>K8vZ9171G9V</td>\n",
       "    </tr>\n",
       "  </tbody>\n",
       "</table>\n",
       "</div>"
      ],
      "text/plain": [
       "         event_id    artist_id\n",
       "0   G5vVZ9U6NySUy  K8vZ9171o-f\n",
       "1   G5vVZ9U6NySUy  K8vZ9171FDV\n",
       "2   G5vVZ9U6NySUy  K8vZ9171fW0\n",
       "3   G5vVZ9U6NySUy  K8vZ917beWV\n",
       "4  vvG1bZ99JSxSRh  K8vZ9171G9V"
      ]
     },
     "execution_count": 6,
     "metadata": {},
     "output_type": "execute_result"
    }
   ],
   "source": [
    "# extract artist-event bridge table data\n",
    "event_artist_bridge_columns = ['event_id', 'artist_id']\n",
    "event_artist_bridge_list = []\n",
    "for event in events:\n",
    "    event_id = event[\"id\"]\n",
    "    artists = event[\"_embedded\"][\"attractions\"]\n",
    "    for artist in artists:\n",
    "        artist_id = artist[\"id\"]\n",
    "        if (event_id, artist_id) not in event_artist_bridge_list:\n",
    "            event_artist_bridge_list.append((event_id, artist_id) )\n",
    "\n",
    "# sanity check\n",
    "if len(set(event_artist_bridge_list)) == len(event_artist_bridge_list):\n",
    "    print(\"Sanity check for Artist-Event bridge table successful\")\n",
    "\n",
    "artist_event_bridge_df = pd.DataFrame(event_artist_bridge_list, columns=event_artist_bridge_columns)\n",
    "artist_event_bridge_df.head()"
   ]
  },
  {
   "cell_type": "code",
   "execution_count": 7,
   "metadata": {},
   "outputs": [
    {
     "name": "stdout",
     "output_type": "stream",
     "text": [
      "Insert statements written to 'sql_scripts/insert_artist.sql' successfully!\n",
      "Insert statements written to 'sql_scripts/insert_event_artist_bridge.sql' successfully!\n"
     ]
    }
   ],
   "source": [
    "insert_statements = generate_insert_statements(dataframe=artist_df, table_name=\"artist\")\n",
    "write_insert_statements_to_file(insert_statements, script_name=\"insert_artist\")\n",
    "\n",
    "insert_statements = generate_insert_statements(dataframe=artist_event_bridge_df, table_name=\"event_artist_bridge\")\n",
    "write_insert_statements_to_file(insert_statements, script_name=\"insert_event_artist_bridge\")"
   ]
  },
  {
   "cell_type": "code",
   "execution_count": 8,
   "metadata": {},
   "outputs": [
    {
     "name": "stdout",
     "output_type": "stream",
     "text": [
      "SQL script executed successfully!\n",
      "SQL script executed successfully!\n"
     ]
    }
   ],
   "source": [
    "# load data to tables\n",
    "run_script_file(\"insert_artist\")\n",
    "run_script_file(\"insert_event_artist_bridge\")"
   ]
  },
  {
   "cell_type": "code",
   "execution_count": null,
   "metadata": {},
   "outputs": [],
   "source": []
  }
 ],
 "metadata": {
  "kernelspec": {
   "display_name": "Python 3",
   "language": "python",
   "name": "python3"
  },
  "language_info": {
   "codemirror_mode": {
    "name": "ipython",
    "version": 3
   },
   "file_extension": ".py",
   "mimetype": "text/x-python",
   "name": "python",
   "nbconvert_exporter": "python",
   "pygments_lexer": "ipython3",
   "version": "3.9.6"
  }
 },
 "nbformat": 4,
 "nbformat_minor": 2
}
