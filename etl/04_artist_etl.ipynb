{
 "cells": [
  {
   "cell_type": "markdown",
   "metadata": {},
   "source": [
    "# Artist table pipeline"
   ]
  },
  {
   "cell_type": "markdown",
   "metadata": {},
   "source": [
    "Steps:\n",
    "1. Load data from data folder\n",
    "2. Extract table specific information into a pandas dataframe\n",
    "3. Generate insert statements\n",
    "4. Load data in SQL table"
   ]
  },
  {
   "cell_type": "code",
   "execution_count": 1,
   "metadata": {},
   "outputs": [],
   "source": [
    "import os\n",
    "os.chdir(\"../\")\n",
    "\n",
    "import warnings\n",
    "warnings.filterwarnings(\"ignore\")"
   ]
  },
  {
   "cell_type": "code",
   "execution_count": 2,
   "metadata": {},
   "outputs": [],
   "source": [
    "import pandas as pd\n",
    "from api.api_connect import fetch_api_data\n",
    "import psycopg2 \n",
    "from helpers import load_config, generate_insert_statements, write_insert_statements_to_file, run_script_file, load_data_file\n",
    "\n",
    "config = load_config()"
   ]
  },
  {
   "cell_type": "code",
   "execution_count": 3,
   "metadata": {},
   "outputs": [],
   "source": [
    "events = load_data_file(\"event_large\")"
   ]
  },
  {
   "cell_type": "code",
   "execution_count": 4,
   "metadata": {},
   "outputs": [
    {
     "data": {
      "text/html": [
       "<div>\n",
       "<style scoped>\n",
       "    .dataframe tbody tr th:only-of-type {\n",
       "        vertical-align: middle;\n",
       "    }\n",
       "\n",
       "    .dataframe tbody tr th {\n",
       "        vertical-align: top;\n",
       "    }\n",
       "\n",
       "    .dataframe thead th {\n",
       "        text-align: right;\n",
       "    }\n",
       "</style>\n",
       "<table border=\"1\" class=\"dataframe\">\n",
       "  <thead>\n",
       "    <tr style=\"text-align: right;\">\n",
       "      <th></th>\n",
       "      <th>artist_id</th>\n",
       "      <th>artist_name</th>\n",
       "    </tr>\n",
       "  </thead>\n",
       "  <tbody>\n",
       "    <tr>\n",
       "      <th>0</th>\n",
       "      <td>K8vZ9171uv0</td>\n",
       "      <td>Billy Joel</td>\n",
       "    </tr>\n",
       "    <tr>\n",
       "      <th>1</th>\n",
       "      <td>K8vZ9171hM0</td>\n",
       "      <td>Bruce Springsteen and The E Street Band</td>\n",
       "    </tr>\n",
       "    <tr>\n",
       "      <th>2</th>\n",
       "      <td>K8vZ9171ug7</td>\n",
       "      <td>Bruce Springsteen</td>\n",
       "    </tr>\n",
       "    <tr>\n",
       "      <th>3</th>\n",
       "      <td>K8vZ917KVr7</td>\n",
       "      <td>Luke Combs</td>\n",
       "    </tr>\n",
       "    <tr>\n",
       "      <th>4</th>\n",
       "      <td>K8vZ917KUtV</td>\n",
       "      <td>Jordan Davis</td>\n",
       "    </tr>\n",
       "  </tbody>\n",
       "</table>\n",
       "</div>"
      ],
      "text/plain": [
       "     artist_id                              artist_name\n",
       "0  K8vZ9171uv0                               Billy Joel\n",
       "1  K8vZ9171hM0  Bruce Springsteen and The E Street Band\n",
       "2  K8vZ9171ug7                        Bruce Springsteen\n",
       "3  K8vZ917KVr7                               Luke Combs\n",
       "4  K8vZ917KUtV                             Jordan Davis"
      ]
     },
     "execution_count": 4,
     "metadata": {},
     "output_type": "execute_result"
    }
   ],
   "source": [
    "# extract artists data\n",
    "artist_dict = {\n",
    "    \"artist_id\": [],\n",
    "    \"artist_name\": []\n",
    "    }\n",
    "for event in events:\n",
    "    artists = event[\"_embedded\"][\"attractions\"]\n",
    "    for artist in artists:\n",
    "        artist_id = artist[\"id\"]\n",
    "        artist_name = artist[\"name\"].replace(\"'\", \"''\")\n",
    "        if artist_id not in artist_dict[\"artist_id\"]:\n",
    "            artist_dict[\"artist_id\"].append(artist_id)\n",
    "            artist_dict[\"artist_name\"].append(artist_name)\n",
    "\n",
    "artist_df = pd.DataFrame(artist_dict)\n",
    "artist_df.head()"
   ]
  },
  {
   "cell_type": "code",
   "execution_count": 5,
   "metadata": {},
   "outputs": [
    {
     "name": "stdout",
     "output_type": "stream",
     "text": [
      "Insert statements written to 'sql_scripts/insert_artist.sql' successfully!\n"
     ]
    }
   ],
   "source": [
    "insert_statements = generate_insert_statements(dataframe=artist_df, table_name=\"artist\")\n",
    "write_insert_statements_to_file(insert_statements, script_name=\"insert_artist\")"
   ]
  },
  {
   "cell_type": "code",
   "execution_count": 6,
   "metadata": {},
   "outputs": [
    {
     "name": "stdout",
     "output_type": "stream",
     "text": [
      "SQL script executed successfully!\n"
     ]
    }
   ],
   "source": [
    "run_script_file(\"insert_artist\")"
   ]
  }
 ],
 "metadata": {
  "kernelspec": {
   "display_name": "Python 3",
   "language": "python",
   "name": "python3"
  },
  "language_info": {
   "codemirror_mode": {
    "name": "ipython",
    "version": 3
   },
   "file_extension": ".py",
   "mimetype": "text/x-python",
   "name": "python",
   "nbconvert_exporter": "python",
   "pygments_lexer": "ipython3",
   "version": "3.9.6"
  }
 },
 "nbformat": 4,
 "nbformat_minor": 2
}
