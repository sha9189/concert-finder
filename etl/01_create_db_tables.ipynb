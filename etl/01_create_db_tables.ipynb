{
 "cells": [
  {
   "cell_type": "markdown",
   "metadata": {},
   "source": [
    "# Initialize the database\n",
    "1. Create the database named CONCERT_FINDER using PGAdmin \n",
    "2. Ensure database information is accurate in config.json file\n",
    "3. Create the following 8 tables:\n",
    "    - EVENT\n",
    "    - VENUE\n",
    "    - EVENT_VENUE_BRIDGE\n",
    "    - STATE\n",
    "    - ARTIST\n",
    "    - EVENT_ARTIST_BRIDGE\n",
    "    - GENRE\n",
    "    - EVENT_GENRE_BRIDGE"
   ]
  },
  {
   "cell_type": "code",
   "execution_count": 1,
   "metadata": {},
   "outputs": [],
   "source": [
    "import os\n",
    "os.chdir(\"../\")"
   ]
  },
  {
   "cell_type": "code",
   "execution_count": 2,
   "metadata": {},
   "outputs": [],
   "source": [
    "from helpers import execute_sql_script, load_config, run_script_file"
   ]
  },
  {
   "cell_type": "code",
   "execution_count": 3,
   "metadata": {},
   "outputs": [
    {
     "name": "stdout",
     "output_type": "stream",
     "text": [
      "SQL script executed successfully!\n",
      "SQL script executed successfully!\n",
      "SQL script executed successfully!\n"
     ]
    }
   ],
   "source": [
    "# run_script_file(\"create_event_table\")\n",
    "\n",
    "# run_script_file(\"create_artist_table\")\n",
    "\n",
    "# run_script_file(\"create_genre_table\")\n",
    "\n",
    "# run_script_file(\"create_state_table\")\n",
    "\n",
    "# run_script_file(\"create_venue_table\")\n",
    "\n",
    "# run_script_file(\"create_event_venue_bridge\")\n",
    "\n",
    "# run_script_file(\"create_event_artist_bridge\")\n",
    "\n",
    "# run_script_file(\"create_event_genre_bridge\")"
   ]
  },
  {
   "cell_type": "code",
   "execution_count": null,
   "metadata": {},
   "outputs": [],
   "source": []
  }
 ],
 "metadata": {
  "kernelspec": {
   "display_name": "venv",
   "language": "python",
   "name": "python3"
  },
  "language_info": {
   "codemirror_mode": {
    "name": "ipython",
    "version": 3
   },
   "file_extension": ".py",
   "mimetype": "text/x-python",
   "name": "python",
   "nbconvert_exporter": "python",
   "pygments_lexer": "ipython3",
   "version": "3.9.6"
  }
 },
 "nbformat": 4,
 "nbformat_minor": 2
}
