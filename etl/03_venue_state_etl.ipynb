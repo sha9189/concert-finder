{
 "cells": [
  {
   "cell_type": "markdown",
   "metadata": {},
   "source": [
    "# Venue and State table pipeline"
   ]
  },
  {
   "cell_type": "markdown",
   "metadata": {},
   "source": [
    "Steps:\n",
    "1. Load data from data folder\n",
    "2. Extract table specific information into a pandas dataframe\n",
    "3. Generate insert statements\n",
    "4. Load data in SQL table"
   ]
  },
  {
   "cell_type": "code",
   "execution_count": 1,
   "metadata": {},
   "outputs": [],
   "source": [
    "import os\n",
    "os.chdir(\"../\")\n",
    "\n",
    "import warnings\n",
    "warnings.filterwarnings(\"ignore\")"
   ]
  },
  {
   "cell_type": "code",
   "execution_count": 2,
   "metadata": {},
   "outputs": [],
   "source": [
    "import pandas as pd\n",
    "from api.api_connect import fetch_api_data\n",
    "import psycopg2 \n",
    "from helpers import load_config, generate_insert_statements, write_insert_statements_to_file, run_script_file, load_data_file\n",
    "\n",
    "config = load_config()"
   ]
  },
  {
   "cell_type": "code",
   "execution_count": 3,
   "metadata": {},
   "outputs": [],
   "source": [
    "events = load_data_file(\"event_large\")"
   ]
  },
  {
   "cell_type": "code",
   "execution_count": 4,
   "metadata": {},
   "outputs": [],
   "source": [
    "# Initialize an empty list to store venue data\n",
    "venue_list = []\n",
    "\n",
    "# Initialize empty lists to keep track of existing venue_ids and venue_names\n",
    "existing_venue_ids = []\n",
    "existing_venue_names = []\n",
    "\n",
    "# Loop through each event\n",
    "for event in events:\n",
    "    # Extract the venues information from the event\n",
    "    venues = event[\"_embedded\"][\"venues\"]\n",
    "        \n",
    "    # Loop through each venue for the event\n",
    "    for venue in venues:\n",
    "        # Extract the ID and name of the venue\n",
    "        venue_id = venue[\"id\"]\n",
    "        venue_name = venue[\"name\"].replace(\"'\",\"''\")\n",
    "        \n",
    "        # Check if venue_id is not already in the list\n",
    "        if venue_id not in existing_venue_ids:\n",
    "            # Add venue_id to the list of existing venue_ids\n",
    "            existing_venue_ids.append(venue_id)\n",
    "            \n",
    "            # Extract additional venue information\n",
    "            venue_location = venue.get(\"location\", {})\n",
    "            venue_postal_code = venue.get(\"postalCode\", \"\")\n",
    "            venue_lat = venue_location.get(\"latitude\", \"\")\n",
    "            venue_long = venue_location.get(\"longitude\", \"\")\n",
    "            venue_address = venue.get(\"address\", {}).get(\"line1\",\"\")\n",
    "            \n",
    "            # Extract city name from the nested city field\n",
    "            venue_city = venue.get(\"city\", {}).get(\"name\", \"\")\n",
    "                   \n",
    "            # Append venue information to the list\n",
    "            venue_list.append({\n",
    "                \"venue_id\": venue_id,\n",
    "                \"venue_name\": venue_name,\n",
    "                \"venue_city\": venue_city,\n",
    "                \"venue_postal_code\": venue_postal_code,\n",
    "                \"venue_lat\": venue_lat,\n",
    "                \"venue_long\": venue_long,\n",
    "                \"venue_address\": venue_address,\n",
    "            })\n"
   ]
  },
  {
   "cell_type": "code",
   "execution_count": 5,
   "metadata": {},
   "outputs": [],
   "source": [
    "# Create a DataFrame from the venue dictionary\n",
    "venue_df = pd.DataFrame(data = venue_list)"
   ]
  },
  {
   "cell_type": "code",
   "execution_count": 6,
   "metadata": {},
   "outputs": [
    {
     "data": {
      "text/html": [
       "<div>\n",
       "<style scoped>\n",
       "    .dataframe tbody tr th:only-of-type {\n",
       "        vertical-align: middle;\n",
       "    }\n",
       "\n",
       "    .dataframe tbody tr th {\n",
       "        vertical-align: top;\n",
       "    }\n",
       "\n",
       "    .dataframe thead th {\n",
       "        text-align: right;\n",
       "    }\n",
       "</style>\n",
       "<table border=\"1\" class=\"dataframe\">\n",
       "  <thead>\n",
       "    <tr style=\"text-align: right;\">\n",
       "      <th></th>\n",
       "      <th>venue_id</th>\n",
       "      <th>venue_name</th>\n",
       "      <th>venue_city</th>\n",
       "      <th>venue_postal_code</th>\n",
       "      <th>venue_lat</th>\n",
       "      <th>venue_long</th>\n",
       "      <th>venue_address</th>\n",
       "    </tr>\n",
       "  </thead>\n",
       "  <tbody>\n",
       "    <tr>\n",
       "      <th>0</th>\n",
       "      <td>KovZpZA7AAEA</td>\n",
       "      <td>Madison Square Garden</td>\n",
       "      <td>New York</td>\n",
       "      <td>10001</td>\n",
       "      <td>40.7497062</td>\n",
       "      <td>-73.9916006</td>\n",
       "      <td>7th Ave &amp; 32nd Street</td>\n",
       "    </tr>\n",
       "    <tr>\n",
       "      <th>1</th>\n",
       "      <td>KovZpZA1J67A</td>\n",
       "      <td>Nationals Park</td>\n",
       "      <td>Washington</td>\n",
       "      <td>20003</td>\n",
       "      <td>38.873005</td>\n",
       "      <td>-77.007412</td>\n",
       "      <td>1500 South Capitol Street, SE</td>\n",
       "    </tr>\n",
       "    <tr>\n",
       "      <th>2</th>\n",
       "      <td>KovZpZAJaFkA</td>\n",
       "      <td>Levi''s® Stadium</td>\n",
       "      <td>Santa Clara</td>\n",
       "      <td>95054</td>\n",
       "      <td>37.40367671</td>\n",
       "      <td>-121.97034311</td>\n",
       "      <td>4900 Marie P. DeBartolo Way</td>\n",
       "    </tr>\n",
       "    <tr>\n",
       "      <th>3</th>\n",
       "      <td>KovZpZAdEt6A</td>\n",
       "      <td>Rice-Eccles Stadium</td>\n",
       "      <td>Salt Lake City</td>\n",
       "      <td>84112</td>\n",
       "      <td>40.7596422</td>\n",
       "      <td>-111.850261</td>\n",
       "      <td>451 South 1400 East</td>\n",
       "    </tr>\n",
       "    <tr>\n",
       "      <th>4</th>\n",
       "      <td>KovZ917ACh0</td>\n",
       "      <td>SoFi Stadium</td>\n",
       "      <td>Inglewood</td>\n",
       "      <td>90301</td>\n",
       "      <td>33.950529</td>\n",
       "      <td>-118.343767</td>\n",
       "      <td>1001 S. Stadium Dr</td>\n",
       "    </tr>\n",
       "  </tbody>\n",
       "</table>\n",
       "</div>"
      ],
      "text/plain": [
       "       venue_id             venue_name      venue_city venue_postal_code  \\\n",
       "0  KovZpZA7AAEA  Madison Square Garden        New York             10001   \n",
       "1  KovZpZA1J67A         Nationals Park      Washington             20003   \n",
       "2  KovZpZAJaFkA       Levi''s® Stadium     Santa Clara             95054   \n",
       "3  KovZpZAdEt6A    Rice-Eccles Stadium  Salt Lake City             84112   \n",
       "4   KovZ917ACh0           SoFi Stadium       Inglewood             90301   \n",
       "\n",
       "     venue_lat     venue_long                  venue_address  \n",
       "0   40.7497062    -73.9916006          7th Ave & 32nd Street  \n",
       "1    38.873005     -77.007412  1500 South Capitol Street, SE  \n",
       "2  37.40367671  -121.97034311    4900 Marie P. DeBartolo Way  \n",
       "3   40.7596422    -111.850261            451 South 1400 East  \n",
       "4    33.950529    -118.343767             1001 S. Stadium Dr  "
      ]
     },
     "execution_count": 6,
     "metadata": {},
     "output_type": "execute_result"
    }
   ],
   "source": [
    "venue_df.head()"
   ]
  },
  {
   "cell_type": "code",
   "execution_count": 7,
   "metadata": {},
   "outputs": [],
   "source": [
    "# Initialize an empty list to store state data\n",
    "state_list = []\n",
    "\n",
    "# Initialize an empty set to keep track of existing states\n",
    "existing_state_codes = set()\n",
    "\n",
    "# Loop through each event\n",
    "for event in events:\n",
    "    # Extract the venues information from the event\n",
    "    venues = event[\"_embedded\"][\"venues\"]\n",
    "# Loop through each venue for the event\n",
    "    for venue in venues:\n",
    "        # Extract the state information of the venue\n",
    "        state_name = venue.get(\"state\", {}).get(\"name\", \"\")\n",
    "        state_code = venue.get(\"state\", {}).get(\"stateCode\", \"\")\n",
    "        country_name = venue.get(\"country\", {}).get(\"name\", \"\")\n",
    "        country_code = venue.get(\"country\", {}).get(\"countryCode\", \"\")\n",
    "        \n",
    "        # Check if the state is not empty and not already in the set of existing states\n",
    "        if state_code not in existing_state_codes:\n",
    "            # Add the state to the set of existing states\n",
    "            existing_state_codes.add(state_code)\n",
    "            \n",
    "            # Append state information to the list\n",
    "            state_list.append({\n",
    "                \"state_name\": state_name,\n",
    "                \"state_code\": state_code,\n",
    "                \"country_name\":country_name,\n",
    "                \"country_code\": country_code\n",
    "            })"
   ]
  },
  {
   "cell_type": "code",
   "execution_count": 8,
   "metadata": {},
   "outputs": [],
   "source": [
    "# Convert the list of states into a DataFrame\n",
    "state_df = pd.DataFrame(state_list)"
   ]
  },
  {
   "cell_type": "code",
   "execution_count": 9,
   "metadata": {},
   "outputs": [
    {
     "data": {
      "text/html": [
       "<div>\n",
       "<style scoped>\n",
       "    .dataframe tbody tr th:only-of-type {\n",
       "        vertical-align: middle;\n",
       "    }\n",
       "\n",
       "    .dataframe tbody tr th {\n",
       "        vertical-align: top;\n",
       "    }\n",
       "\n",
       "    .dataframe thead th {\n",
       "        text-align: right;\n",
       "    }\n",
       "</style>\n",
       "<table border=\"1\" class=\"dataframe\">\n",
       "  <thead>\n",
       "    <tr style=\"text-align: right;\">\n",
       "      <th></th>\n",
       "      <th>state_name</th>\n",
       "      <th>state_code</th>\n",
       "      <th>country_name</th>\n",
       "      <th>country_code</th>\n",
       "    </tr>\n",
       "  </thead>\n",
       "  <tbody>\n",
       "    <tr>\n",
       "      <th>0</th>\n",
       "      <td>New York</td>\n",
       "      <td>NY</td>\n",
       "      <td>United States Of America</td>\n",
       "      <td>US</td>\n",
       "    </tr>\n",
       "    <tr>\n",
       "      <th>1</th>\n",
       "      <td>District of Columbia</td>\n",
       "      <td>DC</td>\n",
       "      <td>United States Of America</td>\n",
       "      <td>US</td>\n",
       "    </tr>\n",
       "    <tr>\n",
       "      <th>2</th>\n",
       "      <td>California</td>\n",
       "      <td>CA</td>\n",
       "      <td>United States Of America</td>\n",
       "      <td>US</td>\n",
       "    </tr>\n",
       "    <tr>\n",
       "      <th>3</th>\n",
       "      <td>Utah</td>\n",
       "      <td>UT</td>\n",
       "      <td>United States Of America</td>\n",
       "      <td>US</td>\n",
       "    </tr>\n",
       "    <tr>\n",
       "      <th>4</th>\n",
       "      <td>Washington</td>\n",
       "      <td>WA</td>\n",
       "      <td>United States Of America</td>\n",
       "      <td>US</td>\n",
       "    </tr>\n",
       "  </tbody>\n",
       "</table>\n",
       "</div>"
      ],
      "text/plain": [
       "             state_name state_code              country_name country_code\n",
       "0              New York         NY  United States Of America           US\n",
       "1  District of Columbia         DC  United States Of America           US\n",
       "2            California         CA  United States Of America           US\n",
       "3                  Utah         UT  United States Of America           US\n",
       "4            Washington         WA  United States Of America           US"
      ]
     },
     "execution_count": 9,
     "metadata": {},
     "output_type": "execute_result"
    }
   ],
   "source": [
    "state_df.head()"
   ]
  },
  {
   "cell_type": "code",
   "execution_count": 10,
   "metadata": {},
   "outputs": [
    {
     "name": "stdout",
     "output_type": "stream",
     "text": [
      "Insert statements written to 'sql_scripts/insert_state.sql' successfully!\n",
      "SQL script executed successfully!\n"
     ]
    }
   ],
   "source": [
    "insert_statements = generate_insert_statements(dataframe=state_df, table_name=\"state\")\n",
    "write_insert_statements_to_file(insert_statements, script_name=\"insert_state\")\n",
    "run_script_file(\"insert_state\")"
   ]
  },
  {
   "cell_type": "code",
   "execution_count": 11,
   "metadata": {},
   "outputs": [
    {
     "name": "stdout",
     "output_type": "stream",
     "text": [
      "Insert statements written to 'sql_scripts/insert_venue.sql' successfully!\n",
      "SQL script executed successfully!\n"
     ]
    }
   ],
   "source": [
    "insert_statements = generate_insert_statements(dataframe=venue_df, table_name=\"venue\")\n",
    "write_insert_statements_to_file(insert_statements, script_name=\"insert_venue\")\n",
    "run_script_file(\"insert_venue\")"
   ]
  }
 ],
 "metadata": {
  "kernelspec": {
   "display_name": "Python 3",
   "language": "python",
   "name": "python3"
  },
  "language_info": {
   "codemirror_mode": {
    "name": "ipython",
    "version": 3
   },
   "file_extension": ".py",
   "mimetype": "text/x-python",
   "name": "python",
   "nbconvert_exporter": "python",
   "pygments_lexer": "ipython3",
   "version": "3.9.6"
  }
 },
 "nbformat": 4,
 "nbformat_minor": 2
}
