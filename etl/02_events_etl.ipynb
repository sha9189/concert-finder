{
 "cells": [
  {
   "cell_type": "markdown",
   "metadata": {},
   "source": [
    "# Events table pipeline"
   ]
  },
  {
   "cell_type": "markdown",
   "metadata": {},
   "source": [
    "Steps:\n",
    "1. Load data from data folder\n",
    "2. Extract table specific information into a pandas dataframe\n",
    "3. Generate insert statements\n",
    "4. Load data in SQL table"
   ]
  },
  {
   "cell_type": "code",
   "execution_count": 1,
   "metadata": {},
   "outputs": [],
   "source": [
    "import os\n",
    "os.chdir(\"../\")\n",
    "\n",
    "import warnings\n",
    "warnings.filterwarnings(\"ignore\")"
   ]
  },
  {
   "cell_type": "code",
   "execution_count": 2,
   "metadata": {},
   "outputs": [],
   "source": [
    "import pandas as pd\n",
    "import numpy as np\n",
    "from api.api_connect import fetch_api_data\n",
    "import psycopg2 \n",
    "from helpers import load_config, generate_insert_statements, write_insert_statements_to_file, run_script_file, load_data_file\n",
    "\n",
    "config = load_config()"
   ]
  },
  {
   "cell_type": "code",
   "execution_count": 3,
   "metadata": {},
   "outputs": [],
   "source": [
    "events = load_data_file(\"event_large\")"
   ]
  },
  {
   "cell_type": "code",
   "execution_count": 4,
   "metadata": {},
   "outputs": [],
   "source": [
    "# Extracting event data\n",
    "\n",
    "events_list = []\n",
    "\n",
    "for e in events:\n",
    "    event_id = e[\"id\"]\n",
    "    name = e[\"name\"].replace(\"'\", \"''\")\n",
    "    url = e[\"url\"]\n",
    "    \n",
    "    if 'dates' in e and 'start' in e['dates'] and 'localDate' in e['dates']['start']:\n",
    "        event_start_date = e[\"dates\"][\"start\"][\"localDate\"]\n",
    "    else:\n",
    "        event_start_date = None\n",
    "        \n",
    "    if 'dates' in e and 'start' in e['dates'] and 'localTime' in e['dates']['start']:\n",
    "        event_start_time = e[\"dates\"][\"start\"][\"localTime\"]\n",
    "    else:\n",
    "        event_start_time = None\n",
    "    \n",
    "    if 'priceRanges' in e:\n",
    "        priceRanges_min = min([p[\"min\"] for p in e[\"priceRanges\"]]) # minimum of all minimum values if multiple ticketing categories\n",
    "        priceRanges_max = max([p[\"max\"] for p in e[\"priceRanges\"]]) # max of all values if multiple ticketing categories\n",
    "    else:\n",
    "        priceRanges_min = None\n",
    "        priceRanges_max = None\n",
    "    \n",
    "    if 'seatmap' in e:\n",
    "        seatmap = e[\"seatmap\"][\"staticUrl\"]\n",
    "    else:\n",
    "        seatmap = None\n",
    "    \n",
    "    if 'ageRestrictions' in e:\n",
    "        ageRestrictions = e[\"ageRestrictions\"][\"legalAgeEnforced\"]\n",
    "    else:\n",
    "        ageRestrictions = None\n",
    "            \n",
    "    events_list.append({\n",
    "        'event_id' : event_id,\n",
    "        'event_name' : name,\n",
    "        'event_url' : url,\n",
    "        'event_start_date' : event_start_date,\n",
    "        'event_start_time' : event_start_time,\n",
    "        'price_min' : priceRanges_min,\n",
    "        'price_max' : priceRanges_max,\n",
    "        'seatmap_url' : seatmap,\n",
    "        'age_restrictions' : ageRestrictions,\n",
    "    })"
   ]
  },
  {
   "cell_type": "code",
   "execution_count": 5,
   "metadata": {},
   "outputs": [
    {
     "data": {
      "text/html": [
       "<div>\n",
       "<style scoped>\n",
       "    .dataframe tbody tr th:only-of-type {\n",
       "        vertical-align: middle;\n",
       "    }\n",
       "\n",
       "    .dataframe tbody tr th {\n",
       "        vertical-align: top;\n",
       "    }\n",
       "\n",
       "    .dataframe thead th {\n",
       "        text-align: right;\n",
       "    }\n",
       "</style>\n",
       "<table border=\"1\" class=\"dataframe\">\n",
       "  <thead>\n",
       "    <tr style=\"text-align: right;\">\n",
       "      <th></th>\n",
       "      <th>event_id</th>\n",
       "      <th>event_name</th>\n",
       "      <th>event_url</th>\n",
       "      <th>event_start_date</th>\n",
       "      <th>event_start_time</th>\n",
       "      <th>price_min</th>\n",
       "      <th>price_max</th>\n",
       "      <th>seatmap_url</th>\n",
       "      <th>age_restrictions</th>\n",
       "    </tr>\n",
       "  </thead>\n",
       "  <tbody>\n",
       "    <tr>\n",
       "      <th>0</th>\n",
       "      <td>G5diZ9V9IAsIW</td>\n",
       "      <td>Billy Joel - In Concert</td>\n",
       "      <td>https://www.ticketmaster.com/billy-joel-in-con...</td>\n",
       "      <td>2024-07-25</td>\n",
       "      <td>20:00:00</td>\n",
       "      <td>89.5</td>\n",
       "      <td>495.5</td>\n",
       "      <td>https://maps.ticketmaster.com/maps/geometry/3/...</td>\n",
       "      <td>False</td>\n",
       "    </tr>\n",
       "    <tr>\n",
       "      <th>1</th>\n",
       "      <td>G5vfZ90VIskvW</td>\n",
       "      <td>Bruce Springsteen and The E Street Band 2024 Tour</td>\n",
       "      <td>https://www.ticketmaster.com/bruce-springsteen...</td>\n",
       "      <td>2024-09-07</td>\n",
       "      <td>19:30:00</td>\n",
       "      <td>49.5</td>\n",
       "      <td>299.5</td>\n",
       "      <td>https://maps.ticketmaster.com/maps/geometry/3/...</td>\n",
       "      <td>False</td>\n",
       "    </tr>\n",
       "    <tr>\n",
       "      <th>2</th>\n",
       "      <td>G5vYZ9YxtXNfW</td>\n",
       "      <td>Luke Combs - Growin'' Up And Gettin'' Old Tour</td>\n",
       "      <td>https://www.ticketmaster.com/luke-combs-growin...</td>\n",
       "      <td>2024-05-18</td>\n",
       "      <td>17:45:00</td>\n",
       "      <td>17.0</td>\n",
       "      <td>225.5</td>\n",
       "      <td>https://maps.ticketmaster.com/maps/geometry/3/...</td>\n",
       "      <td>False</td>\n",
       "    </tr>\n",
       "    <tr>\n",
       "      <th>3</th>\n",
       "      <td>G5vzZ9wQCOodN</td>\n",
       "      <td>George Strait</td>\n",
       "      <td>https://www.ticketmaster.com/george-strait-sal...</td>\n",
       "      <td>2024-06-29</td>\n",
       "      <td>17:45:00</td>\n",
       "      <td>72.0</td>\n",
       "      <td>3025.0</td>\n",
       "      <td>https://maps.ticketmaster.com/maps/geometry/3/...</td>\n",
       "      <td>False</td>\n",
       "    </tr>\n",
       "    <tr>\n",
       "      <th>4</th>\n",
       "      <td>vvG1IZ9MdEjK84</td>\n",
       "      <td>Rolling Stones: Hackney Diamonds ''24</td>\n",
       "      <td>https://www.ticketmaster.com/rolling-stones-ha...</td>\n",
       "      <td>2024-07-10</td>\n",
       "      <td>19:30:00</td>\n",
       "      <td>69.5</td>\n",
       "      <td>600.0</td>\n",
       "      <td>https://maps.ticketmaster.com/maps/geometry/3/...</td>\n",
       "      <td>False</td>\n",
       "    </tr>\n",
       "  </tbody>\n",
       "</table>\n",
       "</div>"
      ],
      "text/plain": [
       "         event_id                                         event_name  \\\n",
       "0   G5diZ9V9IAsIW                            Billy Joel - In Concert   \n",
       "1   G5vfZ90VIskvW  Bruce Springsteen and The E Street Band 2024 Tour   \n",
       "2   G5vYZ9YxtXNfW     Luke Combs - Growin'' Up And Gettin'' Old Tour   \n",
       "3   G5vzZ9wQCOodN                                      George Strait   \n",
       "4  vvG1IZ9MdEjK84              Rolling Stones: Hackney Diamonds ''24   \n",
       "\n",
       "                                           event_url event_start_date  \\\n",
       "0  https://www.ticketmaster.com/billy-joel-in-con...       2024-07-25   \n",
       "1  https://www.ticketmaster.com/bruce-springsteen...       2024-09-07   \n",
       "2  https://www.ticketmaster.com/luke-combs-growin...       2024-05-18   \n",
       "3  https://www.ticketmaster.com/george-strait-sal...       2024-06-29   \n",
       "4  https://www.ticketmaster.com/rolling-stones-ha...       2024-07-10   \n",
       "\n",
       "  event_start_time  price_min  price_max  \\\n",
       "0         20:00:00       89.5      495.5   \n",
       "1         19:30:00       49.5      299.5   \n",
       "2         17:45:00       17.0      225.5   \n",
       "3         17:45:00       72.0     3025.0   \n",
       "4         19:30:00       69.5      600.0   \n",
       "\n",
       "                                         seatmap_url age_restrictions  \n",
       "0  https://maps.ticketmaster.com/maps/geometry/3/...            False  \n",
       "1  https://maps.ticketmaster.com/maps/geometry/3/...            False  \n",
       "2  https://maps.ticketmaster.com/maps/geometry/3/...            False  \n",
       "3  https://maps.ticketmaster.com/maps/geometry/3/...            False  \n",
       "4  https://maps.ticketmaster.com/maps/geometry/3/...            False  "
      ]
     },
     "execution_count": 5,
     "metadata": {},
     "output_type": "execute_result"
    }
   ],
   "source": [
    "events_df = pd.DataFrame(data = events_list)\n",
    "# events_df.replace({np.nan: None}, inplace = True) # NaN -> None/NULL\n",
    "events_df.head()"
   ]
  },
  {
   "cell_type": "code",
   "execution_count": 6,
   "metadata": {},
   "outputs": [
    {
     "name": "stdout",
     "output_type": "stream",
     "text": [
      "Sanity check for events table successful!\n"
     ]
    }
   ],
   "source": [
    "if events_df.shape[0] == events_df['event_id'].nunique():\n",
    "    print(\"Sanity check for events table successful!\")"
   ]
  },
  {
   "cell_type": "code",
   "execution_count": 7,
   "metadata": {},
   "outputs": [
    {
     "name": "stdout",
     "output_type": "stream",
     "text": [
      "Insert statements written to 'sql_scripts/insert_event.sql' successfully!\n",
      "SQL script executed successfully!\n"
     ]
    }
   ],
   "source": [
    "insert_statements = generate_insert_statements(dataframe = events_df, table_name = \"event\")\n",
    "write_insert_statements_to_file(insert_statements, script_name = \"insert_event\")\n",
    "run_script_file(\"insert_event\")"
   ]
  }
 ],
 "metadata": {
  "kernelspec": {
   "display_name": "base",
   "language": "python",
   "name": "python3"
  },
  "language_info": {
   "codemirror_mode": {
    "name": "ipython",
    "version": 3
   },
   "file_extension": ".py",
   "mimetype": "text/x-python",
   "name": "python",
   "nbconvert_exporter": "python",
   "pygments_lexer": "ipython3",
   "version": "3.9.6"
  },
  "orig_nbformat": 4
 },
 "nbformat": 4,
 "nbformat_minor": 2
}
