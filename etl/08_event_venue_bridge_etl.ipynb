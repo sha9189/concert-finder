{
 "cells": [
  {
   "cell_type": "markdown",
   "metadata": {},
   "source": [
    "# Event-Venue Bridge table pipeline"
   ]
  },
  {
   "cell_type": "markdown",
   "metadata": {},
   "source": [
    "Steps:\n",
    "1. Load data from data folder\n",
    "2. Extract table specific information into a pandas dataframe\n",
    "3. Generate insert statements\n",
    "4. Load data in SQL table"
   ]
  },
  {
   "cell_type": "code",
   "execution_count": 1,
   "metadata": {},
   "outputs": [],
   "source": [
    "import os\n",
    "os.chdir(\"../\")\n",
    "\n",
    "import warnings\n",
    "warnings.filterwarnings(\"ignore\")"
   ]
  },
  {
   "cell_type": "code",
   "execution_count": 2,
   "metadata": {},
   "outputs": [],
   "source": [
    "import pandas as pd\n",
    "import numpy as np\n",
    "from api.api_connect import fetch_api_data\n",
    "import psycopg2 \n",
    "from helpers import load_config, generate_insert_statements, write_insert_statements_to_file, run_script_file, load_data_file\n",
    "\n",
    "config = load_config()"
   ]
  },
  {
   "cell_type": "code",
   "execution_count": 3,
   "metadata": {},
   "outputs": [],
   "source": [
    "events = load_data_file(\"event_large\")"
   ]
  },
  {
   "cell_type": "code",
   "execution_count": 4,
   "metadata": {},
   "outputs": [],
   "source": [
    "# Extracting event-venue bridge table data\n",
    "\n",
    "event_venue_list = []\n",
    "\n",
    "for e in events:\n",
    "    event_id = e['id']\n",
    "    \n",
    "    venues = e[\"_embedded\"][\"venues\"]\n",
    "    v_ids = []\n",
    "    \n",
    "    for v in venues:\n",
    "        vid = v['id']\n",
    "        if vid not in v_ids:\n",
    "            v_ids.append(vid)\n",
    "            \n",
    "    if (event_id, v_ids) not in event_venue_list:\n",
    "        event_venue_list.append((event_id, v_ids))\n"
   ]
  },
  {
   "cell_type": "code",
   "execution_count": 5,
   "metadata": {},
   "outputs": [
    {
     "data": {
      "text/html": [
       "<div>\n",
       "<style scoped>\n",
       "    .dataframe tbody tr th:only-of-type {\n",
       "        vertical-align: middle;\n",
       "    }\n",
       "\n",
       "    .dataframe tbody tr th {\n",
       "        vertical-align: top;\n",
       "    }\n",
       "\n",
       "    .dataframe thead th {\n",
       "        text-align: right;\n",
       "    }\n",
       "</style>\n",
       "<table border=\"1\" class=\"dataframe\">\n",
       "  <thead>\n",
       "    <tr style=\"text-align: right;\">\n",
       "      <th></th>\n",
       "      <th>event_id</th>\n",
       "      <th>venue_id</th>\n",
       "    </tr>\n",
       "  </thead>\n",
       "  <tbody>\n",
       "    <tr>\n",
       "      <th>0</th>\n",
       "      <td>G5diZ9V9IAsIW</td>\n",
       "      <td>KovZpZA7AAEA</td>\n",
       "    </tr>\n",
       "    <tr>\n",
       "      <th>1</th>\n",
       "      <td>G5vfZ90VIskvW</td>\n",
       "      <td>KovZpZA1J67A</td>\n",
       "    </tr>\n",
       "    <tr>\n",
       "      <th>2</th>\n",
       "      <td>G5vYZ9YxtXNfW</td>\n",
       "      <td>KovZpZAJaFkA</td>\n",
       "    </tr>\n",
       "    <tr>\n",
       "      <th>3</th>\n",
       "      <td>G5vzZ9wQCOodN</td>\n",
       "      <td>KovZpZAdEt6A</td>\n",
       "    </tr>\n",
       "    <tr>\n",
       "      <th>4</th>\n",
       "      <td>vvG1IZ9MdEjK84</td>\n",
       "      <td>KovZ917ACh0</td>\n",
       "    </tr>\n",
       "  </tbody>\n",
       "</table>\n",
       "</div>"
      ],
      "text/plain": [
       "         event_id      venue_id\n",
       "0   G5diZ9V9IAsIW  KovZpZA7AAEA\n",
       "1   G5vfZ90VIskvW  KovZpZA1J67A\n",
       "2   G5vYZ9YxtXNfW  KovZpZAJaFkA\n",
       "3   G5vzZ9wQCOodN  KovZpZAdEt6A\n",
       "4  vvG1IZ9MdEjK84   KovZ917ACh0"
      ]
     },
     "execution_count": 5,
     "metadata": {},
     "output_type": "execute_result"
    }
   ],
   "source": [
    "event_venue_df = pd.DataFrame(data = event_venue_list, columns = ['event_id', 'venue_id'])\n",
    "event_venue_df = event_venue_df.explode('venue_id')\n",
    "event_venue_df.head()"
   ]
  },
  {
   "cell_type": "code",
   "execution_count": 6,
   "metadata": {},
   "outputs": [
    {
     "name": "stdout",
     "output_type": "stream",
     "text": [
      "Insert statements written to 'sql_scripts/insert_event_venue_bridge.sql' successfully!\n",
      "SQL script executed successfully!\n"
     ]
    }
   ],
   "source": [
    "insert_statements = generate_insert_statements(dataframe = event_venue_df, table_name = \"event_venue_bridge\")\n",
    "write_insert_statements_to_file(insert_statements, script_name = \"insert_event_venue_bridge\")\n",
    "run_script_file(\"insert_event_venue_bridge\")"
   ]
  }
 ],
 "metadata": {
  "kernelspec": {
   "display_name": "base",
   "language": "python",
   "name": "python3"
  },
  "language_info": {
   "codemirror_mode": {
    "name": "ipython",
    "version": 3
   },
   "file_extension": ".py",
   "mimetype": "text/x-python",
   "name": "python",
   "nbconvert_exporter": "python",
   "pygments_lexer": "ipython3",
   "version": "3.9.6"
  },
  "orig_nbformat": 4
 },
 "nbformat": 4,
 "nbformat_minor": 2
}
