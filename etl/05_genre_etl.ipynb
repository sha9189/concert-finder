{
 "cells": [
  {
   "cell_type": "markdown",
   "metadata": {},
   "source": [
    "# Genre table pipeline"
   ]
  },
  {
   "cell_type": "markdown",
   "metadata": {},
   "source": [
    "Steps:\n",
    "1. Load data from data folder\n",
    "2. Extract table specific information into a pandas dataframe\n",
    "3. Generate insert statements\n",
    "4. Load data in SQL table"
   ]
  },
  {
   "cell_type": "code",
   "execution_count": 1,
   "metadata": {},
   "outputs": [],
   "source": [
    "import os\n",
    "os.chdir(\"../\")\n",
    "\n",
    "import warnings\n",
    "warnings.filterwarnings(\"ignore\")"
   ]
  },
  {
   "cell_type": "code",
   "execution_count": 2,
   "metadata": {},
   "outputs": [],
   "source": [
    "import pandas as pd\n",
    "from api.api_connect import fetch_api_data\n",
    "import psycopg2 \n",
    "from helpers import load_config, generate_insert_statements, write_insert_statements_to_file, run_script_file, load_data_file\n",
    "\n",
    "config = load_config()"
   ]
  },
  {
   "cell_type": "code",
   "execution_count": 3,
   "metadata": {},
   "outputs": [],
   "source": [
    "events = load_data_file(\"event_large\")"
   ]
  },
  {
   "cell_type": "code",
   "execution_count": 4,
   "metadata": {},
   "outputs": [
    {
     "name": "stdout",
     "output_type": "stream",
     "text": [
      "Sanity check for Event_Genre bridge table successful\n"
     ]
    }
   ],
   "source": [
    "genre_list = []\n",
    "event_genre_list = []\n",
    "existing_genre_ids = set()\n",
    "\n",
    "for e in events:\n",
    "    event_id = e['id']\n",
    "    for c in e['classifications']:\n",
    "        genre_id = c['genre']['id']\n",
    "        \n",
    "        if 'subGenre' in c: \n",
    "            sub_genre_id = c['subGenre']['id']\n",
    "            sub_genre_name = c['subGenre']['name']\n",
    "        else:\n",
    "            sub_genre_id = None\n",
    "            sub_genre_name = None\n",
    "\n",
    "        genre_name = c['genre']['name']\n",
    "        segment = c['segment']['name']\n",
    "    \n",
    "        if genre_id not in existing_genre_ids:\n",
    "            genre_list.append((genre_id, genre_name, sub_genre_id, sub_genre_name, segment))\n",
    "            existing_genre_ids.add(genre_id)\n",
    "\n",
    "    if (event_id, genre_id) not in event_genre_list:\n",
    "        event_genre_list.append((event_id, genre_id))\n",
    "\n",
    "if len(set(event_genre_list)) == len(event_genre_list):\n",
    "    print(\"Sanity check for Event_Genre bridge table successful\")\n"
   ]
  },
  {
   "cell_type": "code",
   "execution_count": 5,
   "metadata": {},
   "outputs": [
    {
     "data": {
      "text/html": [
       "<div>\n",
       "<style scoped>\n",
       "    .dataframe tbody tr th:only-of-type {\n",
       "        vertical-align: middle;\n",
       "    }\n",
       "\n",
       "    .dataframe tbody tr th {\n",
       "        vertical-align: top;\n",
       "    }\n",
       "\n",
       "    .dataframe thead th {\n",
       "        text-align: right;\n",
       "    }\n",
       "</style>\n",
       "<table border=\"1\" class=\"dataframe\">\n",
       "  <thead>\n",
       "    <tr style=\"text-align: right;\">\n",
       "      <th></th>\n",
       "      <th>genre_id</th>\n",
       "      <th>genre_name</th>\n",
       "      <th>sub_genre_id</th>\n",
       "      <th>sub_genre_name</th>\n",
       "      <th>segment</th>\n",
       "    </tr>\n",
       "  </thead>\n",
       "  <tbody>\n",
       "    <tr>\n",
       "      <th>0</th>\n",
       "      <td>KnvZfZ7vAeA</td>\n",
       "      <td>Rock</td>\n",
       "      <td>KZazBEonSMnZfZ7v6F1</td>\n",
       "      <td>Pop</td>\n",
       "      <td>Music</td>\n",
       "    </tr>\n",
       "    <tr>\n",
       "      <th>1</th>\n",
       "      <td>KnvZfZ7vAv6</td>\n",
       "      <td>Country</td>\n",
       "      <td>KZazBEonSMnZfZ7vAFa</td>\n",
       "      <td>Country</td>\n",
       "      <td>Music</td>\n",
       "    </tr>\n",
       "    <tr>\n",
       "      <th>2</th>\n",
       "      <td>KnvZfZ7vAeF</td>\n",
       "      <td>World</td>\n",
       "      <td>None</td>\n",
       "      <td>None</td>\n",
       "      <td>Music</td>\n",
       "    </tr>\n",
       "    <tr>\n",
       "      <th>3</th>\n",
       "      <td>KnvZfZ7vAvl</td>\n",
       "      <td>Other</td>\n",
       "      <td>KZazBEonSMnZfZ7vk1I</td>\n",
       "      <td>Other</td>\n",
       "      <td>Music</td>\n",
       "    </tr>\n",
       "    <tr>\n",
       "      <th>4</th>\n",
       "      <td>KnvZfZ7vAvt</td>\n",
       "      <td>Metal</td>\n",
       "      <td>KZazBEonSMnZfZ7vaJ6</td>\n",
       "      <td>Nu-Metal</td>\n",
       "      <td>Music</td>\n",
       "    </tr>\n",
       "  </tbody>\n",
       "</table>\n",
       "</div>"
      ],
      "text/plain": [
       "      genre_id genre_name         sub_genre_id sub_genre_name segment\n",
       "0  KnvZfZ7vAeA       Rock  KZazBEonSMnZfZ7v6F1            Pop   Music\n",
       "1  KnvZfZ7vAv6    Country  KZazBEonSMnZfZ7vAFa        Country   Music\n",
       "2  KnvZfZ7vAeF      World                 None           None   Music\n",
       "3  KnvZfZ7vAvl      Other  KZazBEonSMnZfZ7vk1I          Other   Music\n",
       "4  KnvZfZ7vAvt      Metal  KZazBEonSMnZfZ7vaJ6       Nu-Metal   Music"
      ]
     },
     "execution_count": 5,
     "metadata": {},
     "output_type": "execute_result"
    }
   ],
   "source": [
    "genre_df = pd.DataFrame(data = genre_list, columns = ['genre_id', 'genre_name', 'sub_genre_id', 'sub_genre_name', 'segment'])\n",
    "genre_df.head()"
   ]
  },
  {
   "cell_type": "code",
   "execution_count": 6,
   "metadata": {},
   "outputs": [
    {
     "data": {
      "text/html": [
       "<div>\n",
       "<style scoped>\n",
       "    .dataframe tbody tr th:only-of-type {\n",
       "        vertical-align: middle;\n",
       "    }\n",
       "\n",
       "    .dataframe tbody tr th {\n",
       "        vertical-align: top;\n",
       "    }\n",
       "\n",
       "    .dataframe thead th {\n",
       "        text-align: right;\n",
       "    }\n",
       "</style>\n",
       "<table border=\"1\" class=\"dataframe\">\n",
       "  <thead>\n",
       "    <tr style=\"text-align: right;\">\n",
       "      <th></th>\n",
       "      <th>genre_id</th>\n",
       "      <th>genre_name</th>\n",
       "      <th>segment</th>\n",
       "    </tr>\n",
       "  </thead>\n",
       "  <tbody>\n",
       "    <tr>\n",
       "      <th>0</th>\n",
       "      <td>KnvZfZ7vAeA</td>\n",
       "      <td>Rock</td>\n",
       "      <td>Music</td>\n",
       "    </tr>\n",
       "    <tr>\n",
       "      <th>1</th>\n",
       "      <td>KnvZfZ7vAv6</td>\n",
       "      <td>Country</td>\n",
       "      <td>Music</td>\n",
       "    </tr>\n",
       "    <tr>\n",
       "      <th>2</th>\n",
       "      <td>KnvZfZ7vAeF</td>\n",
       "      <td>World</td>\n",
       "      <td>Music</td>\n",
       "    </tr>\n",
       "    <tr>\n",
       "      <th>3</th>\n",
       "      <td>KnvZfZ7vAvl</td>\n",
       "      <td>Other</td>\n",
       "      <td>Music</td>\n",
       "    </tr>\n",
       "    <tr>\n",
       "      <th>4</th>\n",
       "      <td>KnvZfZ7vAvt</td>\n",
       "      <td>Metal</td>\n",
       "      <td>Music</td>\n",
       "    </tr>\n",
       "  </tbody>\n",
       "</table>\n",
       "</div>"
      ],
      "text/plain": [
       "      genre_id genre_name segment\n",
       "0  KnvZfZ7vAeA       Rock   Music\n",
       "1  KnvZfZ7vAv6    Country   Music\n",
       "2  KnvZfZ7vAeF      World   Music\n",
       "3  KnvZfZ7vAvl      Other   Music\n",
       "4  KnvZfZ7vAvt      Metal   Music"
      ]
     },
     "execution_count": 6,
     "metadata": {},
     "output_type": "execute_result"
    }
   ],
   "source": [
    "genre_df = genre_df[['genre_id', 'genre_name', 'segment']].drop_duplicates()\n",
    "genre_df.head()"
   ]
  },
  {
   "cell_type": "code",
   "execution_count": 7,
   "metadata": {},
   "outputs": [
    {
     "name": "stdout",
     "output_type": "stream",
     "text": [
      "Insert statements written to 'sql_scripts/insert_genre.sql' successfully!\n"
     ]
    }
   ],
   "source": [
    "insert_statements = generate_insert_statements(dataframe = genre_df, table_name = \"genre\")\n",
    "write_insert_statements_to_file(insert_statements, script_name = \"insert_genre\")"
   ]
  },
  {
   "cell_type": "code",
   "execution_count": 8,
   "metadata": {},
   "outputs": [
    {
     "name": "stdout",
     "output_type": "stream",
     "text": [
      "SQL script executed successfully!\n"
     ]
    }
   ],
   "source": [
    "run_script_file(\"insert_genre\")"
   ]
  },
  {
   "cell_type": "code",
   "execution_count": null,
   "metadata": {},
   "outputs": [],
   "source": []
  }
 ],
 "metadata": {
  "kernelspec": {
   "display_name": "base",
   "language": "python",
   "name": "python3"
  },
  "language_info": {
   "codemirror_mode": {
    "name": "ipython",
    "version": 3
   },
   "file_extension": ".py",
   "mimetype": "text/x-python",
   "name": "python",
   "nbconvert_exporter": "python",
   "pygments_lexer": "ipython3",
   "version": "3.9.6"
  },
  "orig_nbformat": 4
 },
 "nbformat": 4,
 "nbformat_minor": 2
}
